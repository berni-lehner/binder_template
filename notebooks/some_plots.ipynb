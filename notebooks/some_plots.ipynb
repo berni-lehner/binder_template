{
 "cells": [
  {
   "cell_type": "markdown",
   "id": "2fd11a3e",
   "metadata": {},
   "source": [
    "[![Open In Colab](https://colab.research.google.com/assets/colab-badge.svg)](https://colab.research.google.com/github/berni-lehner/ml-templates/blob/main/notebooks/advanced_plots.ipynb)"
   ]
  },
  {
   "cell_type": "markdown",
   "id": "05242d0f",
   "metadata": {},
   "source": [
    "## Prerequisites"
   ]
  },
  {
   "cell_type": "code",
   "execution_count": 1,
   "id": "2a4c30a6",
   "metadata": {},
   "outputs": [],
   "source": [
    "import matplotlib.pyplot as plt\n",
    "import matplotlib.image as mpimg\n",
    "import seaborn as sns\n",
    "from imageio import imread\n",
    "\n",
    "import numpy as np\n",
    "from scipy.stats import norm\n",
    "from sklearn.metrics import ConfusionMatrixDisplay\n",
    "\n",
    "random_state=None"
   ]
  },
  {
   "cell_type": "markdown",
   "id": "a9ec2fe6",
   "metadata": {},
   "source": [
    "### Setting up general Figure properties\n",
    "Everything that is shared between subplots can be setup globally in advance."
   ]
  },
  {
   "cell_type": "code",
   "execution_count": 2,
   "id": "df31dd19",
   "metadata": {},
   "outputs": [],
   "source": [
    "# general plot configuration\n",
    "SMALL_SIZE = 10\n",
    "MEDIUM_SIZE = 16\n",
    "LARGE_SIZE = 20\n",
    "HUGE_SIZE = 24\n",
    "\n",
    "plt.rc('figure', figsize=(3, 3))        # default figure size\n",
    "plt.rc('figure', titlesize=HUGE_SIZE)     # fontsize of the figure title\n",
    "plt.rc('figure', titleweight='bold')      # weight of the figure title\n",
    "plt.rc('font', size=MEDIUM_SIZE)          # default text sizes\n",
    "plt.rc('axes', titlesize=LARGE_SIZE)      # fontsize of the axes title\n",
    "plt.rc('axes', titleweight='bold')        # weight of the axes title\n",
    "plt.rc('axes', labelsize=MEDIUM_SIZE)     # fontsize of the x and y labels\n",
    "plt.rc('xtick', labelsize=MEDIUM_SIZE)    # fontsize of the tick labels\n",
    "plt.rc('ytick', labelsize=MEDIUM_SIZE)    # fontsize of the tick labels\n",
    "plt.rc('legend', fontsize=MEDIUM_SIZE)    # legend fontsize"
   ]
  },
  {
   "cell_type": "markdown",
   "id": "28c49663",
   "metadata": {},
   "source": [
    "### Create some fake data"
   ]
  },
  {
   "cell_type": "code",
   "execution_count": 3,
   "id": "5e86e3fe",
   "metadata": {},
   "outputs": [],
   "source": [
    "# confusion matrix\n",
    "low = 0\n",
    "high = 100\n",
    "shape = (3,3)\n",
    "mat = np.random.randint(low, high, shape)\n",
    "mat_labels = (['A', 'B', 'C'])\n",
    "\n",
    "\n",
    "# 1-dimensional data\n",
    "n = 100\n",
    "mu = 0\n",
    "sigma = 1\n",
    "x1 = norm.rvs(size=n, loc=mu, scale=sigma, random_state=random_state)\n",
    "x2 = norm.rvs(size=n, loc=mu, scale=sigma, random_state=random_state)\n",
    "\n",
    "# 2-dimensional data\n",
    "x = np.vstack([x1, x2])\n",
    "x_labels = (['x1', 'x2'])\n",
    "\n",
    "\n",
    "# some image\n",
    "url = 'https://upload.wikimedia.org/wikipedia/commons/e/ea/Test.gif'\n",
    "try:\n",
    "    image = imread(url)\n",
    "except Exception:\n",
    "    from PIL import Image\n",
    "    import requests\n",
    "    from io import BytesIO\n",
    "    response = requests.get(url)\n",
    "    image = Image.open(BytesIO(response.content))"
   ]
  },
  {
   "cell_type": "markdown",
   "id": "0f702bbc",
   "metadata": {},
   "source": [
    "- - - -"
   ]
  },
  {
   "cell_type": "markdown",
   "id": "b19f77ed",
   "metadata": {},
   "source": [
    "## 1. Plotting functions that take an axis as conditional parameter\n",
    "Below are a few examples of how these functions can be implemented. "
   ]
  },
  {
   "cell_type": "code",
   "execution_count": 4,
   "id": "685d6add",
   "metadata": {},
   "outputs": [],
   "source": [
    "def plot_X(X, ax=None, legend=None, title=None):\n",
    "    '''\n",
    "    Plots the values of the given vector (can also be multi-dimensional).\n",
    "    '''\n",
    "    try:\n",
    "        n_rows, n_cols = X.shape\n",
    "    except: \n",
    "        n_rows = 1\n",
    "        n_cols = X.shape[0]\n",
    "        \n",
    "    if ax is None:\n",
    "        ax = plt.gca()\n",
    "    \n",
    "    for row in range(n_rows):\n",
    "        ax.plot(X[row])\n",
    "        \n",
    "    if legend:\n",
    "        ax.legend(legend)\n",
    "        \n",
    "    if title:\n",
    "        ax.set_title(title)\n",
    "\n",
    "    ax.set_xlim([0, n_cols])\n",
    "    \n",
    "    # make top and right part of the frame invisible\n",
    "    ax.spines['top'].set_visible(False)\n",
    "    ax.spines['right'].set_visible(False)"
   ]
  },
  {
   "cell_type": "markdown",
   "id": "3e7fb04b",
   "metadata": {},
   "source": [
    "### Notice, that all of these functions also work stand-alone if you don't pass an axis to draw on."
   ]
  },
  {
   "cell_type": "code",
   "execution_count": 5,
   "id": "9432be48",
   "metadata": {},
   "outputs": [
    {
     "data": {
      "image/png": "[encoded data removed]",
      "text/plain": [
       "<Figure size 216x216 with 1 Axes>"
      ]
     },
     "metadata": {
      "needs_background": "light"
     },
     "output_type": "display_data"
    }
   ],
   "source": [
    "plot_X(x)"
   ]
  }
 ],
 "metadata": {
  "kernelspec": {
   "display_name": "Python 3 (ipykernel)",
   "language": "python",
   "name": "python3"
  },
  "language_info": {
   "codemirror_mode": {
    "name": "ipython",
    "version": 3
   },
   "file_extension": ".py",
   "mimetype": "text/x-python",
   "name": "python",
   "nbconvert_exporter": "python",
   "pygments_lexer": "ipython3",
   "version": "3.9.12"
  },
  "varInspector": {
   "cols": {
    "lenName": 16,
    "lenType": 16,
    "lenVar": 40
   },
   "kernels_config": {
    "python": {
     "delete_cmd_postfix": "",
     "delete_cmd_prefix": "del ",
     "library": "var_list.py",
     "varRefreshCmd": "print(var_dic_list())"
    },
    "r": {
     "delete_cmd_postfix": ") ",
     "delete_cmd_prefix": "rm(",
     "library": "var_list.r",
     "varRefreshCmd": "cat(var_dic_list()) "
    }
   },
   "position": {
    "height": "910.824px",
    "left": "2141.26px",
    "right": "20px",
    "top": "123.972px",
    "width": "684.006px"
   },
   "types_to_exclude": [
    "module",
    "function",
    "builtin_function_or_method",
    "instance",
    "_Feature"
   ],
   "window_display": true
  }
 },
 "nbformat": 4,
 "nbformat_minor": 5
}
